{
 "cells": [
  {
   "cell_type": "code",
   "execution_count": 1,
   "id": "d0fa72cb",
   "metadata": {
    "ExecuteTime": {
     "end_time": "2021-07-05T20:37:50.336622Z",
     "start_time": "2021-07-05T20:37:47.851409Z"
    }
   },
   "outputs": [],
   "source": [
    "import pandas as pd\n",
    "import matplotlib.pyplot as plt\n",
    "import numpy as np"
   ]
  },
  {
   "cell_type": "code",
   "execution_count": 2,
   "id": "9a007b10",
   "metadata": {
    "ExecuteTime": {
     "end_time": "2021-07-05T20:37:55.673671Z",
     "start_time": "2021-07-05T20:37:50.342581Z"
    }
   },
   "outputs": [],
   "source": [
    "dades = pd.read_csv(\"../Sprint 11/NouFitxer.csv\")"
   ]
  },
  {
   "cell_type": "markdown",
   "id": "4ec294bd",
   "metadata": {},
   "source": [
    "Crea almenys tres models de regressió diferents per intentar predir el millor possible l’endarreriment dels vols (ArrDelay) de DelayedFlights.csv."
   ]
  },
  {
   "cell_type": "code",
   "execution_count": 3,
   "id": "cf282fcd",
   "metadata": {
    "ExecuteTime": {
     "end_time": "2021-07-05T20:37:55.712484Z",
     "start_time": "2021-07-05T20:37:55.681846Z"
    }
   },
   "outputs": [
    {
     "data": {
      "text/plain": [
       "Index(['Unnamed: 0', 'Month', 'DayofMonth', 'DayOfWeek', 'DepTime',\n",
       "       'CRSDepTime', 'ArrTime', 'CRSArrTime', 'UniqueCarrier',\n",
       "       'ActualElapsedTime', 'CRSElapsedTime', 'AirTime', 'ArrDelay',\n",
       "       'DepDelay', 'Origin', 'Dest', 'Distance', 'Cancelled',\n",
       "       'CancellationCode', 'Diverted', 'CarrierDelay', 'WeatherDelay',\n",
       "       'NASDelay', 'SecurityDelay', 'LateAircraftDelay', 'AvSpeed'],\n",
       "      dtype='object')"
      ]
     },
     "execution_count": 3,
     "metadata": {},
     "output_type": "execute_result"
    }
   ],
   "source": [
    "dades.columns\n",
    "\n",
    "# We will use 3 regression models to predict Arrival Delay\n",
    "\n",
    "# Mulitple Linear Regression\n",
    "# Neural Networks\n",
    "# Decision Tree (?)\n",
    "\n",
    "# Our model incorporates 3 independent variables: Departure Delay, Average Speed and Day of Week\n"
   ]
  },
  {
   "cell_type": "code",
   "execution_count": 4,
   "id": "1d4b89cb",
   "metadata": {
    "ExecuteTime": {
     "end_time": "2021-07-05T20:37:59.617601Z",
     "start_time": "2021-07-05T20:37:55.753510Z"
    }
   },
   "outputs": [],
   "source": [
    "from sklearn.model_selection import train_test_split\n",
    "import statsmodels.api as sm"
   ]
  },
  {
   "cell_type": "code",
   "execution_count": 5,
   "id": "b3873659",
   "metadata": {
    "ExecuteTime": {
     "end_time": "2021-07-05T20:38:00.023321Z",
     "start_time": "2021-07-05T20:37:59.622153Z"
    }
   },
   "outputs": [],
   "source": [
    "# Rescale variables into a 0-1 scale: MinMaxScaler\n",
    "\n",
    "from sklearn.preprocessing import MinMaxScaler\n",
    "\n",
    "scaler = MinMaxScaler()\n",
    "\n",
    "scaled_df = scaler.fit_transform(dades[[\"ArrDelay\", \"DepDelay\", \"AvSpeed\", \"DayOfWeek\"]])"
   ]
  },
  {
   "cell_type": "code",
   "execution_count": 6,
   "id": "de6677f1",
   "metadata": {
    "ExecuteTime": {
     "end_time": "2021-07-05T20:38:00.044086Z",
     "start_time": "2021-07-05T20:38:00.033363Z"
    }
   },
   "outputs": [],
   "source": [
    "scaled_df = pd.DataFrame(scaled_df, columns = [\"ArrDelay\", \"DepDelay\", \"AvSpeed\", \"DayOfWeek\"])"
   ]
  },
  {
   "cell_type": "code",
   "execution_count": 7,
   "id": "7ba37229",
   "metadata": {
    "ExecuteTime": {
     "end_time": "2021-07-05T20:38:00.059621Z",
     "start_time": "2021-07-05T20:38:00.051966Z"
    }
   },
   "outputs": [],
   "source": [
    "# It was tried to remove outliers since in some cases it could be quite extreme, but they have been included in the\n",
    "# end since it improved performance significantly"
   ]
  },
  {
   "cell_type": "markdown",
   "id": "f918e584",
   "metadata": {},
   "source": [
    "_________________________________________________________________________________________________________\n",
    "#########################################################################################################\n",
    "_________________________________________________________________________________________________________"
   ]
  },
  {
   "cell_type": "code",
   "execution_count": 8,
   "id": "a7a6b0f9",
   "metadata": {
    "ExecuteTime": {
     "end_time": "2021-07-05T20:38:00.733208Z",
     "start_time": "2021-07-05T20:38:00.068556Z"
    }
   },
   "outputs": [],
   "source": [
    "# First model: Multiple Linear Regression\n",
    "\n",
    "y = scaled_df[\"ArrDelay\"]\n",
    "X = scaled_df[[\"DepDelay\", \"AvSpeed\", \"DayOfWeek\"]]\n",
    "\n",
    "X_train, X_test, y_train, y_test = train_test_split(X, y, random_state = 23)\n"
   ]
  },
  {
   "cell_type": "code",
   "execution_count": 9,
   "id": "dd9efd44",
   "metadata": {
    "ExecuteTime": {
     "end_time": "2021-07-05T20:38:00.920163Z",
     "start_time": "2021-07-05T20:38:00.746141Z"
    }
   },
   "outputs": [],
   "source": [
    "# We add a constant because statsmodels does not include it in their lineal regression models:\n",
    "\n",
    "X_train = sm.add_constant(X_train) \n",
    "X_test = sm.add_constant(X_test) \n"
   ]
  },
  {
   "cell_type": "code",
   "execution_count": 10,
   "id": "8aecafb9",
   "metadata": {
    "ExecuteTime": {
     "end_time": "2021-07-05T20:38:02.104883Z",
     "start_time": "2021-07-05T20:38:00.929148Z"
    }
   },
   "outputs": [
    {
     "data": {
      "text/html": [
       "<table class=\"simpletable\">\n",
       "<caption>OLS Regression Results</caption>\n",
       "<tr>\n",
       "  <th>Dep. Variable:</th>        <td>ArrDelay</td>     <th>  R-squared:         </th>  <td>   0.907</td> \n",
       "</tr>\n",
       "<tr>\n",
       "  <th>Model:</th>                   <td>OLS</td>       <th>  Adj. R-squared:    </th>  <td>   0.907</td> \n",
       "</tr>\n",
       "<tr>\n",
       "  <th>Method:</th>             <td>Least Squares</td>  <th>  F-statistic:       </th>  <td>3.024e+06</td>\n",
       "</tr>\n",
       "<tr>\n",
       "  <th>Date:</th>             <td>Mon, 05 Jul 2021</td> <th>  Prob (F-statistic):</th>   <td>  0.00</td>  \n",
       "</tr>\n",
       "<tr>\n",
       "  <th>Time:</th>                 <td>22:38:02</td>     <th>  Log-Likelihood:    </th> <td>3.2382e+06</td>\n",
       "</tr>\n",
       "<tr>\n",
       "  <th>No. Observations:</th>      <td>935616</td>      <th>  AIC:               </th> <td>-6.476e+06</td>\n",
       "</tr>\n",
       "<tr>\n",
       "  <th>Df Residuals:</th>          <td>935612</td>      <th>  BIC:               </th> <td>-6.476e+06</td>\n",
       "</tr>\n",
       "<tr>\n",
       "  <th>Df Model:</th>              <td>     3</td>      <th>                     </th>      <td> </td>    \n",
       "</tr>\n",
       "<tr>\n",
       "  <th>Covariance Type:</th>      <td>nonrobust</td>    <th>                     </th>      <td> </td>    \n",
       "</tr>\n",
       "</table>\n",
       "<table class=\"simpletable\">\n",
       "<tr>\n",
       "      <td></td>         <th>coef</th>     <th>std err</th>      <th>t</th>      <th>P>|t|</th>  <th>[0.025</th>    <th>0.975]</th>  \n",
       "</tr>\n",
       "<tr>\n",
       "  <th>const</th>     <td>    0.0040</td> <td> 3.39e-05</td> <td>  118.229</td> <td> 0.000</td> <td>    0.004</td> <td>    0.004</td>\n",
       "</tr>\n",
       "<tr>\n",
       "  <th>DepDelay</th>  <td>    0.9723</td> <td>    0.000</td> <td> 3010.630</td> <td> 0.000</td> <td>    0.972</td> <td>    0.973</td>\n",
       "</tr>\n",
       "<tr>\n",
       "  <th>AvSpeed</th>   <td>   -0.7852</td> <td>    0.004</td> <td> -179.191</td> <td> 0.000</td> <td>   -0.794</td> <td>   -0.777</td>\n",
       "</tr>\n",
       "<tr>\n",
       "  <th>DayOfWeek</th> <td>-3.998e-05</td> <td> 2.36e-05</td> <td>   -1.690</td> <td> 0.091</td> <td>-8.63e-05</td> <td> 6.38e-06</td>\n",
       "</tr>\n",
       "</table>\n",
       "<table class=\"simpletable\">\n",
       "<tr>\n",
       "  <th>Omnibus:</th>       <td>949177.131</td> <th>  Durbin-Watson:     </th>   <td>   1.998</td>   \n",
       "</tr>\n",
       "<tr>\n",
       "  <th>Prob(Omnibus):</th>   <td> 0.000</td>   <th>  Jarque-Bera (JB):  </th> <td>781371798.792</td>\n",
       "</tr>\n",
       "<tr>\n",
       "  <th>Skew:</th>            <td> 4.122</td>   <th>  Prob(JB):          </th>   <td>    0.00</td>   \n",
       "</tr>\n",
       "<tr>\n",
       "  <th>Kurtosis:</th>        <td>144.334</td>  <th>  Cond. No.          </th>   <td>    629.</td>   \n",
       "</tr>\n",
       "</table><br/><br/>Notes:<br/>[1] Standard Errors assume that the covariance matrix of the errors is correctly specified."
      ],
      "text/plain": [
       "<class 'statsmodels.iolib.summary.Summary'>\n",
       "\"\"\"\n",
       "                            OLS Regression Results                            \n",
       "==============================================================================\n",
       "Dep. Variable:               ArrDelay   R-squared:                       0.907\n",
       "Model:                            OLS   Adj. R-squared:                  0.907\n",
       "Method:                 Least Squares   F-statistic:                 3.024e+06\n",
       "Date:                Mon, 05 Jul 2021   Prob (F-statistic):               0.00\n",
       "Time:                        22:38:02   Log-Likelihood:             3.2382e+06\n",
       "No. Observations:              935616   AIC:                        -6.476e+06\n",
       "Df Residuals:                  935612   BIC:                        -6.476e+06\n",
       "Df Model:                           3                                         \n",
       "Covariance Type:            nonrobust                                         \n",
       "==============================================================================\n",
       "                 coef    std err          t      P>|t|      [0.025      0.975]\n",
       "------------------------------------------------------------------------------\n",
       "const          0.0040   3.39e-05    118.229      0.000       0.004       0.004\n",
       "DepDelay       0.9723      0.000   3010.630      0.000       0.972       0.973\n",
       "AvSpeed       -0.7852      0.004   -179.191      0.000      -0.794      -0.777\n",
       "DayOfWeek  -3.998e-05   2.36e-05     -1.690      0.091   -8.63e-05    6.38e-06\n",
       "==============================================================================\n",
       "Omnibus:                   949177.131   Durbin-Watson:                   1.998\n",
       "Prob(Omnibus):                  0.000   Jarque-Bera (JB):        781371798.792\n",
       "Skew:                           4.122   Prob(JB):                         0.00\n",
       "Kurtosis:                     144.334   Cond. No.                         629.\n",
       "==============================================================================\n",
       "\n",
       "Notes:\n",
       "[1] Standard Errors assume that the covariance matrix of the errors is correctly specified.\n",
       "\"\"\""
      ]
     },
     "execution_count": 10,
     "metadata": {},
     "output_type": "execute_result"
    }
   ],
   "source": [
    "# We fit the model to the training data, then we predict the y with the test X and compare it to the actual y\n",
    "\n",
    "model = sm.OLS(y_train, X_train).fit()\n",
    "\n",
    "predictions = model.predict(X_test)\n",
    "\n",
    "model.summary()\n",
    "\n",
    "# All independent variables determine Arrival Delay in a statistically significant manner; Average Speed has a \n",
    "# strong negative effect, whereas Departure Delay has a strong positive effect\n",
    "\n",
    "# R^2 is very good, but it is very bad at detecting overfitting; there is no difference between R^2 and Adj. R^2 so\n",
    "# we should not be too worried about having too many independent variables\n",
    "\n",
    "# When excluding outliers, this analysis was not as accurate (0,7 R^2 instead of 0,9)\n",
    "\n",
    "# 1s execution time"
   ]
  },
  {
   "cell_type": "code",
   "execution_count": 11,
   "id": "13c74f3a",
   "metadata": {
    "ExecuteTime": {
     "end_time": "2021-07-05T20:38:02.149369Z",
     "start_time": "2021-07-05T20:38:02.117557Z"
    }
   },
   "outputs": [
    {
     "name": "stdout",
     "output_type": "stream",
     "text": [
      "0.024844660926039014\n"
     ]
    }
   ],
   "source": [
    "# Root Mean Square Error (RMSE)\n",
    "\n",
    "rmse = np.sqrt(model.mse_total)\n",
    "\n",
    "print(rmse)\n",
    "\n",
    "# 2% of the variance is lost with this model (since data is standardised MSE is in fact on a scale to 0 to 1)"
   ]
  },
  {
   "cell_type": "markdown",
   "id": "52dd0208",
   "metadata": {},
   "source": [
    "_________________________________________________________________________________________________________\n",
    "#########################################################################################################\n",
    "_________________________________________________________________________________________________________"
   ]
  },
  {
   "cell_type": "code",
   "execution_count": 12,
   "id": "ea431f7e",
   "metadata": {
    "ExecuteTime": {
     "end_time": "2021-07-05T20:38:02.945057Z",
     "start_time": "2021-07-05T20:38:02.161854Z"
    }
   },
   "outputs": [],
   "source": [
    "# Second model: Neural Networks\n",
    "\n",
    "X_train, X_test, y_train, y_test = train_test_split(X, y, random_state = 0)\n",
    "\n",
    "from sklearn.neural_network import MLPRegressor\n",
    "\n",
    "neural = MLPRegressor(random_state=0)"
   ]
  },
  {
   "cell_type": "code",
   "execution_count": 13,
   "id": "2cdd45e3",
   "metadata": {
    "ExecuteTime": {
     "end_time": "2021-07-05T20:40:29.563133Z",
     "start_time": "2021-07-05T20:38:02.948035Z"
    }
   },
   "outputs": [
    {
     "data": {
      "text/plain": [
       "MLPRegressor(random_state=0)"
      ]
     },
     "execution_count": 13,
     "metadata": {},
     "output_type": "execute_result"
    }
   ],
   "source": [
    "# Fitting model:\n",
    "neural.fit(X_train, y_train)\n",
    "\n",
    "# 2min 30s execute time"
   ]
  },
  {
   "cell_type": "code",
   "execution_count": 14,
   "id": "8ef4cdb2",
   "metadata": {
    "ExecuteTime": {
     "end_time": "2021-07-05T20:40:30.847232Z",
     "start_time": "2021-07-05T20:40:29.567135Z"
    }
   },
   "outputs": [],
   "source": [
    "# Predicting Y values:\n",
    "Y_preds = neural.predict(X_test)"
   ]
  },
  {
   "cell_type": "code",
   "execution_count": 15,
   "id": "209f857c",
   "metadata": {
    "ExecuteTime": {
     "end_time": "2021-07-05T20:40:38.995885Z",
     "start_time": "2021-07-05T20:40:30.854059Z"
    }
   },
   "outputs": [
    {
     "name": "stdout",
     "output_type": "stream",
     "text": [
      "0.9124515439222259\n",
      "0.9130351095064904\n"
     ]
    }
   ],
   "source": [
    "# R^2 score\n",
    "\n",
    "print(neural.score(X_train, y_train))\n",
    "print(neural.score(X_test, y_test))"
   ]
  },
  {
   "cell_type": "code",
   "execution_count": 16,
   "id": "e15c31c6",
   "metadata": {
    "ExecuteTime": {
     "end_time": "2021-07-05T20:40:39.140554Z",
     "start_time": "2021-07-05T20:40:39.000410Z"
    }
   },
   "outputs": [
    {
     "name": "stdout",
     "output_type": "stream",
     "text": [
      "0.007292404003420018\n"
     ]
    }
   ],
   "source": [
    "# RMSE score\n",
    "\n",
    "from sklearn.metrics import mean_squared_error as mse\n",
    "\n",
    "print(np.sqrt(mse(y_test, Y_preds)))\n",
    "\n",
    "# 0,7% of the variance is not explained by the neural network model, which is even better than the \n",
    "# linear regression model"
   ]
  },
  {
   "cell_type": "markdown",
   "id": "e7a1f681",
   "metadata": {},
   "source": [
    "_________________________________________________________________________________________________________\n",
    "#########################################################################################################\n",
    "_________________________________________________________________________________________________________"
   ]
  },
  {
   "cell_type": "code",
   "execution_count": 17,
   "id": "f7b8617c",
   "metadata": {
    "ExecuteTime": {
     "end_time": "2021-07-05T20:40:40.196661Z",
     "start_time": "2021-07-05T20:40:39.154460Z"
    }
   },
   "outputs": [],
   "source": [
    "# Third model: Random Tree\n",
    "\n",
    "X_train, X_test, y_train, y_test = train_test_split(X, y, random_state = 12)\n",
    "\n",
    "from sklearn.ensemble import RandomForestRegressor\n"
   ]
  },
  {
   "cell_type": "code",
   "execution_count": 18,
   "id": "09a33da7",
   "metadata": {
    "ExecuteTime": {
     "end_time": "2021-07-05T20:48:41.131977Z",
     "start_time": "2021-07-05T20:40:40.199813Z"
    }
   },
   "outputs": [
    {
     "data": {
      "text/plain": [
       "RandomForestRegressor(random_state=42)"
      ]
     },
     "execution_count": 18,
     "metadata": {},
     "output_type": "execute_result"
    }
   ],
   "source": [
    "rf = RandomForestRegressor(n_estimators = 100, random_state = 42)\n",
    "\n",
    "rf.fit(X_train, y_train)\n",
    "\n",
    "# Execution time: 8 minutes"
   ]
  },
  {
   "cell_type": "code",
   "execution_count": 19,
   "id": "7dc37d63",
   "metadata": {
    "ExecuteTime": {
     "end_time": "2021-07-05T20:49:47.241435Z",
     "start_time": "2021-07-05T20:48:41.137590Z"
    }
   },
   "outputs": [],
   "source": [
    "Y_pred = rf.predict(X_test)\n",
    "\n",
    "# Execution time: 1 minute"
   ]
  },
  {
   "cell_type": "code",
   "execution_count": 20,
   "id": "d5604a04",
   "metadata": {
    "ExecuteTime": {
     "end_time": "2021-07-05T20:50:04.668731Z",
     "start_time": "2021-07-05T20:49:47.261162Z"
    }
   },
   "outputs": [
    {
     "data": {
      "text/plain": [
       "array([0.9222219 , 0.06651678, 0.01126131])"
      ]
     },
     "execution_count": 20,
     "metadata": {},
     "output_type": "execute_result"
    }
   ],
   "source": [
    "rf.feature_importances_\n",
    "\n",
    "# 92% of the prediction power comes from Departure Delay, and just 6% from Average Speed and 1% Weekday"
   ]
  },
  {
   "cell_type": "code",
   "execution_count": 21,
   "id": "809a3885",
   "metadata": {
    "ExecuteTime": {
     "end_time": "2021-07-05T20:52:59.249252Z",
     "start_time": "2021-07-05T20:50:04.682618Z"
    }
   },
   "outputs": [
    {
     "name": "stdout",
     "output_type": "stream",
     "text": [
      "0.9820290148170939\n",
      "0.8974523702508646\n"
     ]
    }
   ],
   "source": [
    "# R^2 score, random forest:\n",
    " \n",
    "print(rf.score(X_train, y_train))\n",
    "print(rf.score(X_test, y_test))\n",
    "\n",
    "# Execution time: 2 min 55sec"
   ]
  },
  {
   "cell_type": "code",
   "execution_count": 22,
   "id": "503c0ae8",
   "metadata": {
    "ExecuteTime": {
     "end_time": "2021-07-05T20:52:59.318704Z",
     "start_time": "2021-07-05T20:52:59.262801Z"
    }
   },
   "outputs": [
    {
     "name": "stdout",
     "output_type": "stream",
     "text": [
      "0.034389114509021816\n"
     ]
    }
   ],
   "source": [
    "# RMSE score, random forest:\n",
    "\n",
    "print(np.sqrt(mse(y_test, Y_preds)))\n",
    "\n",
    "# 0,3% of the variance is not explained by the random tree model"
   ]
  },
  {
   "cell_type": "markdown",
   "id": "3b74eaf4",
   "metadata": {},
   "source": [
    "_________________________________________________________________________________________________________\n"
   ]
  },
  {
   "cell_type": "markdown",
   "id": "a8313421",
   "metadata": {},
   "source": [
    "Compara’ls en base al MSE i al R2 :"
   ]
  },
  {
   "cell_type": "code",
   "execution_count": 23,
   "id": "d4631957",
   "metadata": {
    "ExecuteTime": {
     "end_time": "2021-07-05T20:52:59.326802Z",
     "start_time": "2021-07-05T20:52:59.324331Z"
    }
   },
   "outputs": [],
   "source": [
    "# R^2 scores:\n",
    "#   Linear Regression: 0.907\n",
    "#   Neural Network Regression: 0.913\n",
    "#   Random Tree Regression: 0.898\n",
    "\n",
    "# Even though Neural Networks provides a slightly better result, all three models are very satisfactory in terms \n",
    "# of model performance as measured by R^2"
   ]
  },
  {
   "cell_type": "code",
   "execution_count": 24,
   "id": "cb72d807",
   "metadata": {
    "ExecuteTime": {
     "end_time": "2021-07-05T20:52:59.334879Z",
     "start_time": "2021-07-05T20:52:59.330869Z"
    }
   },
   "outputs": [],
   "source": [
    "# RMSE scores:\n",
    "#   Linear Regression: 2,48%\n",
    "#   Neural Network Regression: 0,73%\n",
    "#   Random Tree Regression: 3,44%\n",
    "\n",
    "# Note: even if RMSE is an absolute value, all our variables are standardised in the range of 0 to 1, so absolute \n",
    "# variance is easily translated into %\n",
    "\n",
    "# All models are quite good, but Neural Networks provide the best performance in terms of RMSE"
   ]
  },
  {
   "cell_type": "code",
   "execution_count": 28,
   "id": "76906d62",
   "metadata": {
    "ExecuteTime": {
     "end_time": "2021-07-05T20:56:54.078727Z",
     "start_time": "2021-07-05T20:56:54.071857Z"
    }
   },
   "outputs": [],
   "source": [
    "# This exercise continues, due to size concerns, at S12 T01 P2"
   ]
  }
 ],
 "metadata": {
  "kernelspec": {
   "display_name": "Python 3",
   "language": "python",
   "name": "python3"
  },
  "language_info": {
   "codemirror_mode": {
    "name": "ipython",
    "version": 3
   },
   "file_extension": ".py",
   "mimetype": "text/x-python",
   "name": "python",
   "nbconvert_exporter": "python",
   "pygments_lexer": "ipython3",
   "version": "3.8.8"
  },
  "varInspector": {
   "cols": {
    "lenName": 16,
    "lenType": 16,
    "lenVar": 40
   },
   "kernels_config": {
    "python": {
     "delete_cmd_postfix": "",
     "delete_cmd_prefix": "del ",
     "library": "var_list.py",
     "varRefreshCmd": "print(var_dic_list())"
    },
    "r": {
     "delete_cmd_postfix": ") ",
     "delete_cmd_prefix": "rm(",
     "library": "var_list.r",
     "varRefreshCmd": "cat(var_dic_list()) "
    }
   },
   "types_to_exclude": [
    "module",
    "function",
    "builtin_function_or_method",
    "instance",
    "_Feature"
   ],
   "window_display": false
  }
 },
 "nbformat": 4,
 "nbformat_minor": 5
}
