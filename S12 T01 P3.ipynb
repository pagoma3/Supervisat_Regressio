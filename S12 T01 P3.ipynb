{
 "cells": [
  {
   "cell_type": "code",
   "execution_count": 4,
   "id": "e1b65c76",
   "metadata": {
    "ExecuteTime": {
     "end_time": "2021-07-06T08:32:23.567124Z",
     "start_time": "2021-07-06T08:32:22.197077Z"
    }
   },
   "outputs": [],
   "source": [
    "import pandas as pd\n",
    "import matplotlib.pyplot as plt\n",
    "import numpy as np\n",
    "\n",
    "from sklearn.model_selection import train_test_split\n",
    "from sklearn.preprocessing import MinMaxScaler\n",
    "from sklearn.neural_network import MLPRegressor\n",
    "from sklearn.metrics import mean_squared_error as mse"
   ]
  },
  {
   "cell_type": "code",
   "execution_count": 5,
   "id": "03392fc6",
   "metadata": {
    "ExecuteTime": {
     "end_time": "2021-07-06T08:32:38.763364Z",
     "start_time": "2021-07-06T08:32:33.255314Z"
    }
   },
   "outputs": [],
   "source": [
    "dades = pd.read_csv(\"../Sprint 11/NouFitxer.csv\")"
   ]
  },
  {
   "cell_type": "markdown",
   "id": "9222f6a2",
   "metadata": {},
   "source": [
    "## Level 2\n",
    "\n",
    "### Exercise 5\n",
    "\n",
    "Perform some variable engineering process to improve predicitive power"
   ]
  },
  {
   "cell_type": "markdown",
   "id": "366505a9",
   "metadata": {},
   "source": [
    "## Level 3\n",
    "\n",
    "### Exercise 6\n",
    "\n",
    "Do not use the DepDelay variable when predicting"
   ]
  },
  {
   "cell_type": "code",
   "execution_count": 2,
   "id": "da5fbbd1",
   "metadata": {
    "ExecuteTime": {
     "end_time": "2021-07-06T08:22:46.947278Z",
     "start_time": "2021-07-06T08:22:46.940885Z"
    }
   },
   "outputs": [],
   "source": [
    "# In terms of feature engineering, all variables used have been scaled from 0 to 1 to allow for better analysis.\n",
    "# In addition, eliminating outliers was tried but rendered worst results in all cases.\n",
    "\n",
    "# The features added to perform the new regression analysis without Departure Delay will be scaled as well."
   ]
  },
  {
   "cell_type": "code",
   "execution_count": 3,
   "id": "5df41741",
   "metadata": {
    "ExecuteTime": {
     "end_time": "2021-07-06T08:22:48.811684Z",
     "start_time": "2021-07-06T08:22:48.807074Z"
    }
   },
   "outputs": [],
   "source": [
    "# It is going to be very important to exclude Departure Delay from our analyses since it most likely makes our\n",
    "# models suffer from autocorrelation (Departure Delay is logically related to Arrival Delay); that is the main\n",
    "# reason why we get such good accuracy values (R^2, RMSE)\n"
   ]
  },
  {
   "cell_type": "code",
   "execution_count": 9,
   "id": "746224a8",
   "metadata": {
    "ExecuteTime": {
     "end_time": "2021-07-06T08:34:15.792853Z",
     "start_time": "2021-07-06T08:34:15.783037Z"
    }
   },
   "outputs": [],
   "source": [
    "# Include AvSpeed, ActualElapsedTime and Distance as predictors instead of Day of Week and Departure Delay"
   ]
  },
  {
   "cell_type": "code",
   "execution_count": 7,
   "id": "4a4f04a1",
   "metadata": {
    "ExecuteTime": {
     "end_time": "2021-07-06T08:33:35.466745Z",
     "start_time": "2021-07-06T08:33:35.311379Z"
    }
   },
   "outputs": [],
   "source": [
    "scaler = MinMaxScaler()\n",
    "\n",
    "scaled = scaler.fit_transform(dades[[\"ArrDelay\", \"Distance\", \"AvSpeed\", \"ActualElapsedTime\"]])\n",
    "\n",
    "scaled_df = pd.DataFrame(scaled, columns = [\"ArrDelay\", \"Distance\", \"AvSpeed\", \"ActualElapsedTime\"])"
   ]
  },
  {
   "cell_type": "code",
   "execution_count": 8,
   "id": "047a637a",
   "metadata": {
    "ExecuteTime": {
     "end_time": "2021-07-06T08:33:42.701036Z",
     "start_time": "2021-07-06T08:33:42.397217Z"
    }
   },
   "outputs": [],
   "source": [
    "y = scaled_df[\"ArrDelay\"]\n",
    "X = scaled_df[[\"Distance\", \"AvSpeed\", \"ActualElapsedTime\"]]\n",
    "\n",
    "X_train, X_test, y_train, y_test = train_test_split(X, y, random_state = 50)"
   ]
  },
  {
   "cell_type": "code",
   "execution_count": 10,
   "id": "5f2f7e38",
   "metadata": {
    "ExecuteTime": {
     "end_time": "2021-07-06T08:37:38.397475Z",
     "start_time": "2021-07-06T08:35:18.224252Z"
    }
   },
   "outputs": [
    {
     "data": {
      "text/plain": [
       "MLPRegressor(hidden_layer_sizes=125, random_state=0)"
      ]
     },
     "execution_count": 10,
     "metadata": {},
     "output_type": "execute_result"
    }
   ],
   "source": [
    "# Neural Network Regression will be used as the regression model\n",
    "\n",
    "neural = MLPRegressor(hidden_layer_sizes = 125, random_state=0)\n",
    "\n",
    "neural.fit(X_train, y_train)\n",
    "\n",
    "# Execution time: 2min 20s"
   ]
  },
  {
   "cell_type": "code",
   "execution_count": 11,
   "id": "15396b63",
   "metadata": {
    "ExecuteTime": {
     "end_time": "2021-07-06T08:37:40.253814Z",
     "start_time": "2021-07-06T08:37:38.876202Z"
    }
   },
   "outputs": [],
   "source": [
    "Y_preds = neural.predict(X_test)"
   ]
  },
  {
   "cell_type": "code",
   "execution_count": 12,
   "id": "62f7b109",
   "metadata": {
    "ExecuteTime": {
     "end_time": "2021-07-06T08:37:46.265744Z",
     "start_time": "2021-07-06T08:37:40.816389Z"
    }
   },
   "outputs": [
    {
     "name": "stdout",
     "output_type": "stream",
     "text": [
      "0.06277142705745986\n",
      "0.06551625449304732\n"
     ]
    }
   ],
   "source": [
    "print(neural.score(X_train, y_train))\n",
    "print(neural.score(X_test, y_test))"
   ]
  },
  {
   "cell_type": "code",
   "execution_count": 13,
   "id": "e5c8ffc5",
   "metadata": {
    "ExecuteTime": {
     "end_time": "2021-07-06T08:37:46.737552Z",
     "start_time": "2021-07-06T08:37:46.722982Z"
    }
   },
   "outputs": [
    {
     "name": "stdout",
     "output_type": "stream",
     "text": [
      "0.023989587411273584\n"
     ]
    }
   ],
   "source": [
    "print(np.sqrt(mse(y_test, Y_preds)))"
   ]
  },
  {
   "cell_type": "code",
   "execution_count": null,
   "id": "9c43b292",
   "metadata": {},
   "outputs": [],
   "source": [
    "# Even if hidden layers have been added to make a better model, the exclusion of Departure Delay means it is much \n",
    "# more difficult for the model to be precise. The R^2 score is very low (0,06 vs 0,913) and the RSME is quite poor\n",
    "# as well (2,4% vs 0,73%)"
   ]
  }
 ],
 "metadata": {
  "kernelspec": {
   "display_name": "Python 3",
   "language": "python",
   "name": "python3"
  },
  "language_info": {
   "codemirror_mode": {
    "name": "ipython",
    "version": 3
   },
   "file_extension": ".py",
   "mimetype": "text/x-python",
   "name": "python",
   "nbconvert_exporter": "python",
   "pygments_lexer": "ipython3",
   "version": "3.8.8"
  },
  "varInspector": {
   "cols": {
    "lenName": 16,
    "lenType": 16,
    "lenVar": 40
   },
   "kernels_config": {
    "python": {
     "delete_cmd_postfix": "",
     "delete_cmd_prefix": "del ",
     "library": "var_list.py",
     "varRefreshCmd": "print(var_dic_list())"
    },
    "r": {
     "delete_cmd_postfix": ") ",
     "delete_cmd_prefix": "rm(",
     "library": "var_list.r",
     "varRefreshCmd": "cat(var_dic_list()) "
    }
   },
   "types_to_exclude": [
    "module",
    "function",
    "builtin_function_or_method",
    "instance",
    "_Feature"
   ],
   "window_display": false
  }
 },
 "nbformat": 4,
 "nbformat_minor": 5
}
