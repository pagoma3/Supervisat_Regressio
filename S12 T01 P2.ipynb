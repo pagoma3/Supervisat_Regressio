{
 "cells": [
  {
   "cell_type": "code",
   "execution_count": 1,
   "id": "c6bda8f5",
   "metadata": {
    "ExecuteTime": {
     "end_time": "2021-07-06T07:58:45.550987Z",
     "start_time": "2021-07-06T07:58:41.318897Z"
    }
   },
   "outputs": [],
   "source": [
    "import pandas as pd\n",
    "import matplotlib.pyplot as plt\n",
    "import numpy as np\n",
    "\n",
    "from sklearn.model_selection import train_test_split\n",
    "from sklearn.preprocessing import MinMaxScaler\n",
    "from sklearn.neural_network import MLPRegressor\n",
    "from sklearn.ensemble import RandomForestRegressor\n",
    "from sklearn.metrics import mean_squared_error as mse\n",
    "from sklearn.metrics import r2_score as r2\n",
    "from sklearn.linear_model import LinearRegression"
   ]
  },
  {
   "cell_type": "code",
   "execution_count": 2,
   "id": "fe2ab96c",
   "metadata": {
    "ExecuteTime": {
     "end_time": "2021-07-06T07:58:49.734755Z",
     "start_time": "2021-07-06T07:58:45.556158Z"
    }
   },
   "outputs": [],
   "source": [
    "dades = pd.read_csv(\"../Sprint 11/NouFitxer.csv\")"
   ]
  },
  {
   "cell_type": "code",
   "execution_count": 3,
   "id": "9787359a",
   "metadata": {
    "ExecuteTime": {
     "end_time": "2021-07-06T07:58:49.950794Z",
     "start_time": "2021-07-06T07:58:49.738092Z"
    }
   },
   "outputs": [],
   "source": [
    "scaler = MinMaxScaler()\n",
    "\n",
    "scaled = scaler.fit_transform(dades[[\"ArrDelay\", \"DepDelay\", \"AvSpeed\", \"DayOfWeek\"]])\n",
    "\n",
    "scaled_df = pd.DataFrame(scaled, columns = [\"ArrDelay\", \"DepDelay\", \"AvSpeed\", \"DayOfWeek\"])"
   ]
  },
  {
   "cell_type": "code",
   "execution_count": 4,
   "id": "e2860200",
   "metadata": {
    "ExecuteTime": {
     "end_time": "2021-07-06T07:58:50.326410Z",
     "start_time": "2021-07-06T07:58:49.954507Z"
    }
   },
   "outputs": [],
   "source": [
    "y = scaled_df[\"ArrDelay\"]\n",
    "X = scaled_df[[\"DepDelay\", \"AvSpeed\", \"DayOfWeek\"]]\n",
    "\n",
    "X_train, X_test, y_train, y_test = train_test_split(X, y, random_state = 50)"
   ]
  },
  {
   "cell_type": "markdown",
   "id": "5be4d069",
   "metadata": {},
   "source": [
    "_________________________________________________________________________________________________________"
   ]
  },
  {
   "cell_type": "markdown",
   "id": "b482ecad",
   "metadata": {},
   "source": [
    "Entrena’ls utilitzant els diferents paràmetres que admeten."
   ]
  },
  {
   "cell_type": "code",
   "execution_count": 5,
   "id": "a0752a8f",
   "metadata": {
    "ExecuteTime": {
     "end_time": "2021-07-06T07:58:50.341451Z",
     "start_time": "2021-07-06T07:58:50.331883Z"
    }
   },
   "outputs": [],
   "source": [
    "# First model: Polynomial regression instead of OLS (since not much change in hyperparameters is allowed)\n",
    "# No hyperparameter tuning baseline: \n",
    "    # R^2 score: 0,907\n",
    "    # RMSE score: 2,48%\n",
    "    # Execution time: 1s"
   ]
  },
  {
   "cell_type": "code",
   "execution_count": 6,
   "id": "6e20a0b4",
   "metadata": {
    "ExecuteTime": {
     "end_time": "2021-07-06T07:58:50.528717Z",
     "start_time": "2021-07-06T07:58:50.348281Z"
    }
   },
   "outputs": [],
   "source": [
    "from sklearn.preprocessing import PolynomialFeatures\n",
    "\n",
    "poly = PolynomialFeatures(degree=2)\n",
    "X_poly_train = poly.fit_transform(X_train)\n",
    "X_poly_test = poly.fit_transform(X_test)\n"
   ]
  },
  {
   "cell_type": "code",
   "execution_count": 7,
   "id": "c8af25a8",
   "metadata": {
    "ExecuteTime": {
     "end_time": "2021-07-06T07:58:50.909763Z",
     "start_time": "2021-07-06T07:58:50.531118Z"
    }
   },
   "outputs": [],
   "source": [
    "regression = LinearRegression()\n",
    "\n",
    "model = regression.fit(X_poly_train, y_train)\n",
    "\n",
    "y_pred = regression.predict(X_poly_test)\n",
    "\n",
    "# Execute time: under 1 second"
   ]
  },
  {
   "cell_type": "code",
   "execution_count": 8,
   "id": "6d17fe21",
   "metadata": {
    "ExecuteTime": {
     "end_time": "2021-07-06T07:58:50.930828Z",
     "start_time": "2021-07-06T07:58:50.917262Z"
    }
   },
   "outputs": [
    {
     "name": "stdout",
     "output_type": "stream",
     "text": [
      "0.007495683537139274\n",
      "0.9087676883046029\n"
     ]
    }
   ],
   "source": [
    "rmse = np.sqrt(mse(y_test, y_pred))\n",
    "r2 = r2(y_test, y_pred)\n",
    "\n",
    "print(rmse)\n",
    "print(r2)"
   ]
  },
  {
   "cell_type": "code",
   "execution_count": 9,
   "id": "053f3531",
   "metadata": {
    "ExecuteTime": {
     "end_time": "2021-07-06T07:58:50.944760Z",
     "start_time": "2021-07-06T07:58:50.938637Z"
    }
   },
   "outputs": [],
   "source": [
    "# Using polynomial regression we get slightly better results:\n",
    "    # R^2 score: 0,908 (vs 0,907)\n",
    "    # RMSE score: 0,75% (vs 2,48%)\n",
    "    # Execution time: under a second (vs 1 second)"
   ]
  },
  {
   "cell_type": "markdown",
   "id": "5d246e94",
   "metadata": {
    "ExecuteTime": {
     "end_time": "2021-07-05T20:57:20.318211Z",
     "start_time": "2021-07-05T20:57:20.065576Z"
    }
   },
   "source": [
    "_________________________________________________________________________________________________________"
   ]
  },
  {
   "cell_type": "code",
   "execution_count": 10,
   "id": "bd86822a",
   "metadata": {
    "ExecuteTime": {
     "end_time": "2021-07-06T07:58:50.956157Z",
     "start_time": "2021-07-06T07:58:50.949375Z"
    }
   },
   "outputs": [],
   "source": [
    "# Second model: Neural Networks; changes in number of neurons and maximum iterations required\n",
    "# No hyperparameter tuning baseline: \n",
    "    # R^2 score: 0,913\n",
    "    # RMSE score: 0,73%\n",
    "    # Execution time: 2m 30s"
   ]
  },
  {
   "cell_type": "code",
   "execution_count": 11,
   "id": "e891e03f",
   "metadata": {
    "ExecuteTime": {
     "end_time": "2021-07-06T07:58:51.239984Z",
     "start_time": "2021-07-06T07:58:50.960389Z"
    }
   },
   "outputs": [],
   "source": [
    "X_train, X_test, y_train, y_test = train_test_split(X, y, random_state = 4)\n",
    "\n",
    "neural = MLPRegressor(hidden_layer_sizes = 75, max_iter = 100, random_state=0)"
   ]
  },
  {
   "cell_type": "code",
   "execution_count": 12,
   "id": "c8be52e9",
   "metadata": {
    "ExecuteTime": {
     "end_time": "2021-07-06T08:00:12.668420Z",
     "start_time": "2021-07-06T07:58:51.243601Z"
    }
   },
   "outputs": [
    {
     "data": {
      "text/plain": [
       "MLPRegressor(hidden_layer_sizes=75, max_iter=100, random_state=0)"
      ]
     },
     "execution_count": 12,
     "metadata": {},
     "output_type": "execute_result"
    }
   ],
   "source": [
    "neural.fit(X_train, y_train)\n",
    "\n",
    "# Execution time: 1min 20s"
   ]
  },
  {
   "cell_type": "code",
   "execution_count": 13,
   "id": "523817c8",
   "metadata": {
    "ExecuteTime": {
     "end_time": "2021-07-06T08:00:13.429691Z",
     "start_time": "2021-07-06T08:00:12.673132Z"
    }
   },
   "outputs": [],
   "source": [
    "Y_preds = neural.predict(X_test)"
   ]
  },
  {
   "cell_type": "code",
   "execution_count": 14,
   "id": "56048490",
   "metadata": {
    "ExecuteTime": {
     "end_time": "2021-07-06T08:00:16.285694Z",
     "start_time": "2021-07-06T08:00:13.432813Z"
    }
   },
   "outputs": [
    {
     "name": "stdout",
     "output_type": "stream",
     "text": [
      "0.8906037656924561\n",
      "0.8922146478018207\n"
     ]
    }
   ],
   "source": [
    "# R^2 score:\n",
    "\n",
    "print(neural.score(X_train, y_train))\n",
    "print(neural.score(X_test, y_test))"
   ]
  },
  {
   "cell_type": "code",
   "execution_count": 15,
   "id": "a59b56cd",
   "metadata": {
    "ExecuteTime": {
     "end_time": "2021-07-06T08:00:16.301794Z",
     "start_time": "2021-07-06T08:00:16.290513Z"
    }
   },
   "outputs": [
    {
     "name": "stdout",
     "output_type": "stream",
     "text": [
      "0.00817139484898527\n"
     ]
    }
   ],
   "source": [
    "# RSME score:\n",
    "\n",
    "print(np.sqrt(mse(y_test, Y_preds)))\n"
   ]
  },
  {
   "cell_type": "code",
   "execution_count": 16,
   "id": "9cc6157c",
   "metadata": {
    "ExecuteTime": {
     "end_time": "2021-07-06T08:00:16.316077Z",
     "start_time": "2021-07-06T08:00:16.306629Z"
    }
   },
   "outputs": [],
   "source": [
    "# This hyperparameter tuning has reduced hidden layers and maximum iterations, which has made the model more \n",
    "# efficient yet slightly less effective\n",
    "\n",
    "    # R^2 score: 0,892 (vs 0,913)\n",
    "    # RMSE score: 0,82% (vs 0,73%)\n",
    "    # Execution time: 1m 20s (vs 2m 30s)"
   ]
  },
  {
   "cell_type": "markdown",
   "id": "c31585e7",
   "metadata": {
    "ExecuteTime": {
     "end_time": "2021-07-05T20:57:20.318211Z",
     "start_time": "2021-07-05T20:57:20.065576Z"
    }
   },
   "source": [
    "________________________________________________________________________________________________________"
   ]
  },
  {
   "cell_type": "code",
   "execution_count": 17,
   "id": "a2e2bdea",
   "metadata": {
    "ExecuteTime": {
     "end_time": "2021-07-06T08:00:16.328281Z",
     "start_time": "2021-07-06T08:00:16.322426Z"
    }
   },
   "outputs": [],
   "source": [
    "# Third model: Random Forest; changes in number of estimators and bootstrap settings\n",
    "# No hyperparameter tuning baseline: \n",
    "    # R^2 score: 0,898\n",
    "    # RMSE score: 3,44%\n",
    "    # Execution time: 8m"
   ]
  },
  {
   "cell_type": "code",
   "execution_count": 20,
   "id": "de9ad405",
   "metadata": {
    "ExecuteTime": {
     "end_time": "2021-07-06T08:09:26.673249Z",
     "start_time": "2021-07-06T08:01:10.696438Z"
    }
   },
   "outputs": [
    {
     "data": {
      "text/plain": [
       "RandomForestRegressor(bootstrap=False, n_estimators=75, random_state=42)"
      ]
     },
     "execution_count": 20,
     "metadata": {},
     "output_type": "execute_result"
    }
   ],
   "source": [
    "X_train, X_test, y_train, y_test = train_test_split(X, y, random_state = 58)\n",
    "\n",
    "rf = RandomForestRegressor(n_estimators = 75, bootstrap = False, random_state = 42)\n",
    "\n",
    "rf.fit(X_train, y_train)\n",
    "\n",
    "# Execution time: 8m 15s"
   ]
  },
  {
   "cell_type": "code",
   "execution_count": 21,
   "id": "73041878",
   "metadata": {
    "ExecuteTime": {
     "end_time": "2021-07-06T08:11:06.264524Z",
     "start_time": "2021-07-06T08:10:01.366158Z"
    }
   },
   "outputs": [],
   "source": [
    "Y_pred = rf.predict(X_test)\n",
    "\n",
    "# Execution time: 1m"
   ]
  },
  {
   "cell_type": "code",
   "execution_count": 22,
   "id": "1f29bd88",
   "metadata": {
    "ExecuteTime": {
     "end_time": "2021-07-06T08:11:28.778109Z",
     "start_time": "2021-07-06T08:11:06.296998Z"
    }
   },
   "outputs": [
    {
     "data": {
      "text/plain": [
       "array([0.92381012, 0.0650429 , 0.01114698])"
      ]
     },
     "execution_count": 22,
     "metadata": {},
     "output_type": "execute_result"
    }
   ],
   "source": [
    "rf.feature_importances_\n",
    "\n",
    "# Once again, Departure Delay is the most important variable to predict Arrival Delay"
   ]
  },
  {
   "cell_type": "code",
   "execution_count": 23,
   "id": "3ba0ea74",
   "metadata": {
    "ExecuteTime": {
     "end_time": "2021-07-06T08:14:32.201544Z",
     "start_time": "2021-07-06T08:11:28.785847Z"
    }
   },
   "outputs": [
    {
     "name": "stdout",
     "output_type": "stream",
     "text": [
      "0.9946491647313597\n",
      "0.8353662126794538\n"
     ]
    }
   ],
   "source": [
    "print(rf.score(X_train, y_train))\n",
    "print(rf.score(X_test, y_test))\n",
    "\n",
    "# Execution time: 3 min"
   ]
  },
  {
   "cell_type": "code",
   "execution_count": 24,
   "id": "41c04d54",
   "metadata": {
    "ExecuteTime": {
     "end_time": "2021-07-06T08:14:32.279797Z",
     "start_time": "2021-07-06T08:14:32.215678Z"
    }
   },
   "outputs": [
    {
     "name": "stdout",
     "output_type": "stream",
     "text": [
      "0.0342027985022044\n"
     ]
    }
   ],
   "source": [
    "print(np.sqrt(mse(y_test, Y_preds)))"
   ]
  },
  {
   "cell_type": "code",
   "execution_count": 27,
   "id": "fa6a15ab",
   "metadata": {
    "ExecuteTime": {
     "end_time": "2021-07-06T08:17:53.922150Z",
     "start_time": "2021-07-06T08:17:53.906670Z"
    }
   },
   "outputs": [],
   "source": [
    "# After tuning, random forest keeps being the worst performing model, and has seen no substantial improvements\n",
    "    # R^2 score: 0,835 (vs 0,898)\n",
    "    # RMSE score: 3,42 (vs 3,44%)\n",
    "    # Execution time: 8m 15s (vs 8m)"
   ]
  },
  {
   "cell_type": "markdown",
   "id": "f9b27504",
   "metadata": {},
   "source": [
    "________________________________________________________________________________________________________"
   ]
  },
  {
   "cell_type": "markdown",
   "id": "84571162",
   "metadata": {},
   "source": [
    "Compara el seu rendiment utilitzant l’aproximació traint/test o utilitzant totes les dades (validació interna)"
   ]
  },
  {
   "cell_type": "code",
   "execution_count": 25,
   "id": "b5ddc152",
   "metadata": {
    "ExecuteTime": {
     "end_time": "2021-07-06T08:14:32.357739Z",
     "start_time": "2021-07-06T08:14:32.323812Z"
    }
   },
   "outputs": [],
   "source": [
    "# L'aproximació train/test ha estat utilitzada en tots els models, així com totes les dades del dataset"
   ]
  },
  {
   "cell_type": "markdown",
   "id": "d9b704af",
   "metadata": {},
   "source": [
    "________________________________________________________________________________________________________"
   ]
  },
  {
   "cell_type": "code",
   "execution_count": 26,
   "id": "afe6cb23",
   "metadata": {
    "ExecuteTime": {
     "end_time": "2021-07-06T08:14:32.380514Z",
     "start_time": "2021-07-06T08:14:32.371468Z"
    }
   },
   "outputs": [],
   "source": [
    "# This exercise continues, due to size concerns, at S12 T01 P3"
   ]
  }
 ],
 "metadata": {
  "kernelspec": {
   "display_name": "Python 3",
   "language": "python",
   "name": "python3"
  },
  "language_info": {
   "codemirror_mode": {
    "name": "ipython",
    "version": 3
   },
   "file_extension": ".py",
   "mimetype": "text/x-python",
   "name": "python",
   "nbconvert_exporter": "python",
   "pygments_lexer": "ipython3",
   "version": "3.8.8"
  },
  "varInspector": {
   "cols": {
    "lenName": 16,
    "lenType": 16,
    "lenVar": 40
   },
   "kernels_config": {
    "python": {
     "delete_cmd_postfix": "",
     "delete_cmd_prefix": "del ",
     "library": "var_list.py",
     "varRefreshCmd": "print(var_dic_list())"
    },
    "r": {
     "delete_cmd_postfix": ") ",
     "delete_cmd_prefix": "rm(",
     "library": "var_list.r",
     "varRefreshCmd": "cat(var_dic_list()) "
    }
   },
   "types_to_exclude": [
    "module",
    "function",
    "builtin_function_or_method",
    "instance",
    "_Feature"
   ],
   "window_display": false
  }
 },
 "nbformat": 4,
 "nbformat_minor": 5
}
